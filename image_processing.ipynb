{
 "cells": [
  {
   "cell_type": "code",
   "execution_count": 22,
   "metadata": {},
   "outputs": [
    {
     "name": "stderr",
     "output_type": "stream",
     "text": [
      "WARNING: Logging before flag parsing goes to stderr.\n",
      "W0426 11:36:31.166184 139786741401408 deprecation.py:323] From /home/mark/.conda/envs/Springboard/lib/python3.6/site-packages/tensorflow_core/python/compat/v2_compat.py:65: disable_resource_variables (from tensorflow.python.ops.variable_scope) is deprecated and will be removed in a future version.\n",
      "Instructions for updating:\n",
      "non-resource variables are not supported in the long term\n"
     ]
    }
   ],
   "source": [
    "import numpy as np\n",
    "import os\n",
    "import cv2\n",
    "import matplotlib.pyplot as plt\n",
    "import pandas as pd\n",
    "import pickle\n",
    "#import tensorflow as tf\n",
    "\n",
    "from tqdm import tqdm_notebook\n",
    "from scipy.spatial.distance import hamming, cosine\n",
    "\n",
    "import tensorflow.compat.v1 as tf\n",
    "tf.disable_v2_behavior() \n",
    "\n",
    "%matplotlib inline"
   ]
  },
  {
   "cell_type": "code",
   "execution_count": 7,
   "metadata": {},
   "outputs": [],
   "source": [
    "def image_loader(image_path, image_size):\n",
    "    image = cv2.imread(image_path)\n",
    "    image = cv2.cvtColor(image, cv2.COLOR_BGR2RGB)\n",
    "    \n",
    "    image = cv2.resize(image, image_size, cv2.INTER_CUBIC)\n",
    "    return image"
   ]
  },
  {
   "cell_type": "code",
   "execution_count": 8,
   "metadata": {},
   "outputs": [],
   "source": [
    "def dataset_preprocessing(dataset_path, labels_file_path, image_size, image_paths_pickle):\n",
    "    '''\n",
    "    Loads images and labels from dataset folder.\n",
    "    \n",
    "    :param dataset_path: String, path to the train/test dataset folder\n",
    "    :param labels_file_path: String, path to the .txt file where classes names are written\n",
    "    :param image_size: tuple, single image size\n",
    "    :param image_paths_pickle: String, name of a pickle file where all image paths will be saved\n",
    "    '''\n",
    "    \n",
    "    with open(labels_file_path, 'r') as f:\n",
    "        classes = f.read().split('\\n')[:-1]\n",
    "        \n",
    "    \n",
    "    images = []\n",
    "    labels = []\n",
    "    image_paths = []\n",
    "    \n",
    "    for image_name in os.listdir(dataset_path):\n",
    "        try:\n",
    "            image_path = os.path.join(dataset_path, image_name)\n",
    "            images.append(image_loader(image_path, image_size))\n",
    "            image_paths.append(image_path)\n",
    "            for idx in range(len(classes)):\n",
    "                if classes[idx] in image_name: #Example: 0_frog.png\n",
    "                    labels.append(idx)\n",
    "        except:\n",
    "            pass\n",
    "    \n",
    "    with open(image_paths_pickle + \".pickle\", 'wb') as f:\n",
    "        pickle.dump(image_paths, f)\n",
    "    \n",
    "    assert len(images) == len(labels)\n",
    "    return np.array(images), np.array(labels)"
   ]
  },
  {
   "cell_type": "code",
   "execution_count": 9,
   "metadata": {},
   "outputs": [],
   "source": [
    "images, labels = dataset_preprocessing(\"../cifar_image_processing/cifar/train/\", \"../cifar_image_processing/cifar/labels.txt\", (32,32), \"training_images_pickle\")"
   ]
  },
  {
   "cell_type": "code",
   "execution_count": 10,
   "metadata": {},
   "outputs": [
    {
     "data": {
      "text/plain": [
       "(50000, 32, 32, 3)"
      ]
     },
     "execution_count": 10,
     "metadata": {},
     "output_type": "execute_result"
    }
   ],
   "source": [
    "images.shape"
   ]
  },
  {
   "cell_type": "code",
   "execution_count": 11,
   "metadata": {},
   "outputs": [],
   "source": [
    "def cosine_difference(training_set_vectors, query_vector, top_n=50):\n",
    "    distances = []\n",
    "    for i in range(len(training_set_vectors)):\n",
    "        distances.append(cosine(training_set_vectors[i], query_vector[0]))\n",
    "    \n",
    "    return np.argsort(distances)[:top_n]"
   ]
  },
  {
   "cell_type": "code",
   "execution_count": 12,
   "metadata": {},
   "outputs": [],
   "source": [
    "def hamming_distance(training_set_vectors, query_vector, top_n=50):\n",
    "    distances = []\n",
    "    for i in range(len(training_set_vectors)):\n",
    "        distances.append(hamming(training_set_vectors[i], query_vector[0]))\n",
    "    \n",
    "    return np.argsort(distances)[:top_n]"
   ]
  },
  {
   "cell_type": "code",
   "execution_count": 13,
   "metadata": {},
   "outputs": [],
   "source": [
    "def sparse_accuracy(true_labels, predicted_labels):\n",
    "    \n",
    "    assert len(true_labels) == len(predicted_labels)\n",
    "    \n",
    "    correct = 0\n",
    "    for i in range(len(true_labels)):\n",
    "        if np.argmax(predicted_labels[i]) == true_labels[i]:\n",
    "            correct += 1\n",
    "    return correct / len(true_labels)"
   ]
  },
  {
   "cell_type": "code",
   "execution_count": 14,
   "metadata": {},
   "outputs": [],
   "source": [
    "def model_inputs(image_size):\n",
    "    inputs = tf.placeholder(dtype=tf.float32, shape=[None, image_size[0], image_size[1],3], name='images')\n",
    "    targets = tf.placeholder(dtype=tf.int32, shape=[None], name='targets')\n",
    "    dropout_rate = tf.placeholder(dtype=tf.float32, name='dropout_rate')\n",
    "    \n",
    "    return inputs, targets, dropout_rate"
   ]
  },
  {
   "cell_type": "code",
   "execution_count": 15,
   "metadata": {},
   "outputs": [],
   "source": [
    "def conv_block(inputs, \n",
    "               number_of_filters, \n",
    "               kernel_size, \n",
    "               strides=(1,1), \n",
    "               padding='SAME', \n",
    "               activation=tf.nn.relu, \n",
    "               max_pool=True, \n",
    "               batch_norm=True):\n",
    "    conv_features = layer = tf.layers.conv2d(inputs=inputs,\n",
    "                                            filters=number_of_filters,\n",
    "                                            kernel_size=kernel_size,\n",
    "                                            strides=strides,\n",
    "                                            padding=padding,\n",
    "                                            activation=activation)\n",
    "    \n",
    "    if max_pool:\n",
    "        layer = tf.layers.max_pooling2d(layer,\n",
    "                                       pool_size=(2,2),\n",
    "                                       strides=(2,2),\n",
    "                                       padding='SAME')\n",
    "    if batch_norm:\n",
    "        layer = tf.layers.batch_normalization(layer)\n",
    "    \n",
    "    return layer, conv_features"
   ]
  },
  {
   "cell_type": "code",
   "execution_count": 26,
   "metadata": {},
   "outputs": [],
   "source": [
    "def dense_block(inputs,\n",
    "               units,\n",
    "               activation=tf.nn.relu,\n",
    "               dropout_rate=None,\n",
    "               batch_norm=True):\n",
    "    dense_features = layer = tf.layers.dense(inputs=inputs,\n",
    "                                            units=units,\n",
    "                                            activation=activation)\n",
    "    if dropout_rate is not None:\n",
    "        layer = tf.layers.dropout(layer,\n",
    "                                 rate=dropout_rate)\n",
    "    if batch_norm:\n",
    "        layer = tf.layers.batch_normalization(layer)\n",
    "    \n",
    "    return layer, dense_features"
   ]
  },
  {
   "cell_type": "code",
   "execution_count": 17,
   "metadata": {},
   "outputs": [],
   "source": [
    "def opt_loss(logits,\n",
    "            targets,\n",
    "            learning_rate):\n",
    "    \n",
    "    loss = tf.reduce_mean(tf.nn.sparse_softmax_cross_entropy_with_logits(labels=targets,logits=logits))\n",
    "    \n",
    "    optimizer = tf.train.AdamOptimizer(learning_rate=learning_rate).minimize(loss)\n",
    "    \n",
    "    return loss, optimizer"
   ]
  },
  {
   "cell_type": "code",
   "execution_count": 28,
   "metadata": {},
   "outputs": [],
   "source": [
    "class ImageSearchModel(object):\n",
    "    def __init__(self, \n",
    "                 learning_rate, \n",
    "                 image_size, \n",
    "                 number_of_classes=10):\n",
    "        \n",
    "        tf.reset_default_graph()\n",
    "        \n",
    "        self.inputs, self.targets, self.dropout_rate = model_inputs(image_size)\n",
    "        \n",
    "        normalized_images = tf.layers.batch_normalization(self.inputs)\n",
    "        \n",
    "        #Conv_block 1\n",
    "        conv_block_1, self.conv_1_features = conv_block(inputs=normalized_images,\n",
    "                                                       number_of_filters=64,\n",
    "                                                       kernel_size=(3,3),\n",
    "                                                       strides=(1,1),\n",
    "                                                       padding='SAME',\n",
    "                                                       activation=tf.nn.relu,\n",
    "                                                       max_pool=True,\n",
    "                                                       batch_norm=True)\n",
    "        \n",
    "        #Conv_block 2\n",
    "        conv_block_2, self.conv_2_features = conv_block(inputs=conv_block_1,\n",
    "                                                       number_of_filters=128,\n",
    "                                                       kernel_size=(3,3),\n",
    "                                                       strides=(1,1),\n",
    "                                                       padding='SAME',\n",
    "                                                       activation=tf.nn.relu,\n",
    "                                                       max_pool=True,\n",
    "                                                       batch_norm=True)\n",
    "        \n",
    "        #Conv_block 3\n",
    "        conv_block_3, self.conv_3_features = conv_block(inputs=conv_block_2,\n",
    "                                                       number_of_filters=256,\n",
    "                                                       kernel_size=(5,5),\n",
    "                                                       strides=(1,1),\n",
    "                                                       padding='SAME',\n",
    "                                                       activation=tf.nn.relu,\n",
    "                                                       max_pool=True,\n",
    "                                                       batch_norm=True)\n",
    "        \n",
    "        #Conv_block 4\n",
    "        conv_block_4, self.conv_4_features = conv_block(inputs=conv_block_3,\n",
    "                                                       number_of_filters=512,\n",
    "                                                       kernel_size=(5,5),\n",
    "                                                       strides=(1,1),\n",
    "                                                       padding='SAME',\n",
    "                                                       activation=tf.nn.relu,\n",
    "                                                       max_pool=True,\n",
    "                                                       batch_norm=True)\n",
    "        \n",
    "        #Flatten\n",
    "        flat_layer = tf.layers.flatten(conv_block_4)\n",
    "        \n",
    "        #Dense_block_1\n",
    "        dense_block_1, self.dense_1_features = dense_block(flat_layer,\n",
    "                                                               units=128,\n",
    "                                                               activation=tf.nn.relu,\n",
    "                                                               dropout_rate=self.dropout_rate,\n",
    "                                                               batch_norm=True)\n",
    "        \n",
    "        #Dense_block_2\n",
    "        dense_block_2, self.dense_2_features = dense_block(dense_block_1,\n",
    "                                                               units=256,\n",
    "                                                               activation=tf.nn.relu,\n",
    "                                                               dropout_rate=self.dropout_rate,\n",
    "                                                               batch_norm=True)\n",
    "        \n",
    "        #Dense_block_3\n",
    "        dense_block_3, self.dense_3_features = dense_block(dense_block_2,\n",
    "                                                               units=512,\n",
    "                                                               activation=tf.nn.relu,\n",
    "                                                               dropout_rate=self.dropout_rate,\n",
    "                                                               batch_norm=True)\n",
    "\n",
    "        #Dense_block_4\n",
    "        dense_block_4, self.dense_4_features = dense_block(dense_block_3,\n",
    "                                                               units=1024,\n",
    "                                                               activation=tf.nn.relu,\n",
    "                                                               dropout_rate=self.dropout_rate,\n",
    "                                                               batch_norm=True)\n",
    "        \n",
    "        logits = tf.layers.dense(inputs=dense_block_4,\n",
    "                                units=number_of_classes,\n",
    "                                activation=None)\n",
    "        \n",
    "        self.predictions = tf.nn.softmax(logits)\n",
    "        \n",
    "        self.loss, self.opt = opt_loss(logits=logits,\n",
    "                                      targets=self.targets,\n",
    "                                      learning_rate=learning_rate)"
   ]
  },
  {
   "cell_type": "code",
   "execution_count": 29,
   "metadata": {},
   "outputs": [],
   "source": [
    "model = ImageSearchModel(0.001,(32,32), 10)"
   ]
  },
  {
   "cell_type": "code",
   "execution_count": 51,
   "metadata": {},
   "outputs": [],
   "source": [
    "def train(model,\n",
    "         epochs,\n",
    "         drop_rate,\n",
    "         batch_size,\n",
    "         data,\n",
    "         save_dir,\n",
    "         save_delta=0.15):\n",
    "    X_train, y_train, X_test, y_test = data\n",
    "    \n",
    "    #Session\n",
    "    session = tf.Session()\n",
    "    session.run(tf.global_variables_initializer())\n",
    "    \n",
    "    saver = tf.train.Saver()\n",
    "    \n",
    "    best_test_accuracy = 0\n",
    "    \n",
    "    #Training loop\n",
    "    for epoch in range(epochs):\n",
    "        \n",
    "        train_accuracy = []\n",
    "        train_loss = []\n",
    "        \n",
    "        for ii in tqdm_notebook(range(len(X_train) // batch_size)):\n",
    "            start_id = ii * batch_size\n",
    "            end_id = start_id + batch_size\n",
    "            \n",
    "            X_batch = X_train[start_id:end_id]\n",
    "            y_batch = y_train[start_id:end_id]\n",
    "            \n",
    "            feed_dict = { model.inputs:X_batch,\n",
    "                          model.targets:y_batch,\n",
    "                          model.dropout_rate:drop_rate}\n",
    "            \n",
    "            #Optimize\n",
    "            _, t_loss, preds_t = session.run([model.opt, model.loss, model.predictions], feed_dict=feed_dict)\n",
    "            \n",
    "            train_accuracy.append(sparse_accuracy(y_batch, preds_t))\n",
    "            train_loss.append(t_loss)\n",
    "            \n",
    "        print(\"Epoch: {}/{}\".format(epoch, epochs),  \n",
    "              \" | Training accuracy: {}\".format(np.mean(train_accuracy)), \n",
    "              \" | Training loss: {}\".format(np.mean(train_loss)) )\n",
    "        \n",
    "        test_accuracy =[]\n",
    "        \n",
    "        for ii in tqdm_notebook(range(len(X_test) // batch_size)):\n",
    "            start_id = ii * batch_size\n",
    "            end_id = start_id + batch_size\n",
    "            \n",
    "            X_batch = X_test[start_id:end_id]\n",
    "            y_batch = y_test[start_id:end_id]\n",
    "            \n",
    "            feed_dict = { model.inputs:X_batch,\n",
    "                          model.dropout_rate:0.0}\n",
    "            \n",
    "            #Optimize\n",
    "            preds_test = session.run(model.predictions, feed_dict=feed_dict)\n",
    "            \n",
    "            test_accuracy.append(sparse_accuracy(y_batch, preds_test))\n",
    "            \n",
    "        print(\"Test accuracy: {}\".format(np.mean(test_accuracy)))\n",
    "        #Saving model\n",
    "        if np.mean(train_accuracy) > np.mean(test_accuracy):\n",
    "            if np.abs(np.mean(train_accuracy) - np.mean(test_accuracy)) <= save_delta:\n",
    "                best_test_accuracy = np.mean(test_accuracy)\n",
    "                saver.save(session, \"{}/model_epoch_{}.ckpt\".format(save_dir, epoch))\n",
    "        \n",
    "    session.close()"
   ]
  },
  {
   "cell_type": "code",
   "execution_count": 45,
   "metadata": {},
   "outputs": [],
   "source": [
    "epochs = 20\n",
    "batch_size = 128\n",
    "learning_rate = 0.001\n",
    "dropout_probs = 0.6\n",
    "image_size = (32,32)"
   ]
  },
  {
   "cell_type": "code",
   "execution_count": 37,
   "metadata": {},
   "outputs": [],
   "source": [
    "X_train, y_train = dataset_preprocessing(\"../cifar_image_processing/cifar/train/\", \"../cifar_image_processing/cifar/labels.txt\", image_size=image_size, image_paths_pickle=\"train_images_pickle\")"
   ]
  },
  {
   "cell_type": "code",
   "execution_count": 39,
   "metadata": {},
   "outputs": [
    {
     "data": {
      "text/plain": [
       "(50000, 32, 32, 3)"
      ]
     },
     "execution_count": 39,
     "metadata": {},
     "output_type": "execute_result"
    }
   ],
   "source": [
    "X_train.shape"
   ]
  },
  {
   "cell_type": "code",
   "execution_count": 40,
   "metadata": {},
   "outputs": [],
   "source": [
    "X_test, y_test = dataset_preprocessing(\"../cifar_image_processing/cifar/test/\", \"../cifar_image_processing/cifar/labels.txt\", image_size=image_size, image_paths_pickle=\"test_images_pickle\")"
   ]
  },
  {
   "cell_type": "code",
   "execution_count": 41,
   "metadata": {},
   "outputs": [
    {
     "data": {
      "text/plain": [
       "(10000, 32, 32, 3)"
      ]
     },
     "execution_count": 41,
     "metadata": {},
     "output_type": "execute_result"
    }
   ],
   "source": [
    "X_test.shape"
   ]
  },
  {
   "cell_type": "code",
   "execution_count": 42,
   "metadata": {},
   "outputs": [],
   "source": [
    "model = ImageSearchModel(learning_rate, image_size)"
   ]
  },
  {
   "cell_type": "code",
   "execution_count": 43,
   "metadata": {},
   "outputs": [],
   "source": [
    "data = (X_train, y_train, X_test, y_test)"
   ]
  },
  {
   "cell_type": "code",
   "execution_count": 52,
   "metadata": {},
   "outputs": [
    {
     "name": "stderr",
     "output_type": "stream",
     "text": [
      "/home/mark/.conda/envs/Springboard/lib/python3.6/site-packages/ipykernel_launcher.py:24: TqdmDeprecationWarning: This function will be removed in tqdm==5.0.0\n",
      "Please use `tqdm.notebook.tqdm` instead of `tqdm.tqdm_notebook`\n"
     ]
    },
    {
     "data": {
      "application/vnd.jupyter.widget-view+json": {
       "model_id": "a822a861b84147b8875a249c5e918a51",
       "version_major": 2,
       "version_minor": 0
      },
      "text/plain": [
       "HBox(children=(FloatProgress(value=0.0, max=390.0), HTML(value='')))"
      ]
     },
     "metadata": {},
     "output_type": "display_data"
    },
    {
     "name": "stdout",
     "output_type": "stream",
     "text": [
      "\n",
      "Epoch: 0/20  | Training accuracy: 0.3918669871794872  | Training loss: 1.7114248275756836\n"
     ]
    },
    {
     "name": "stderr",
     "output_type": "stream",
     "text": [
      "/home/mark/.conda/envs/Springboard/lib/python3.6/site-packages/ipykernel_launcher.py:47: TqdmDeprecationWarning: This function will be removed in tqdm==5.0.0\n",
      "Please use `tqdm.notebook.tqdm` instead of `tqdm.tqdm_notebook`\n"
     ]
    },
    {
     "data": {
      "application/vnd.jupyter.widget-view+json": {
       "model_id": "a6abf5b94b7248cf95db6585fed6bd71",
       "version_major": 2,
       "version_minor": 0
      },
      "text/plain": [
       "HBox(children=(FloatProgress(value=0.0, max=78.0), HTML(value='')))"
      ]
     },
     "metadata": {},
     "output_type": "display_data"
    },
    {
     "name": "stdout",
     "output_type": "stream",
     "text": [
      "\n",
      "Test accuracy: 0.5404647435897436\n"
     ]
    },
    {
     "data": {
      "application/vnd.jupyter.widget-view+json": {
       "model_id": "4cc9313361c14391abd7f294a1936a2c",
       "version_major": 2,
       "version_minor": 0
      },
      "text/plain": [
       "HBox(children=(FloatProgress(value=0.0, max=390.0), HTML(value='')))"
      ]
     },
     "metadata": {},
     "output_type": "display_data"
    },
    {
     "name": "stdout",
     "output_type": "stream",
     "text": [
      "\n",
      "Epoch: 1/20  | Training accuracy: 0.5748998397435897  | Training loss: 1.1782501935958862\n"
     ]
    },
    {
     "data": {
      "application/vnd.jupyter.widget-view+json": {
       "model_id": "1694ff1f1824416197327292ecde3b56",
       "version_major": 2,
       "version_minor": 0
      },
      "text/plain": [
       "HBox(children=(FloatProgress(value=0.0, max=78.0), HTML(value='')))"
      ]
     },
     "metadata": {},
     "output_type": "display_data"
    },
    {
     "name": "stdout",
     "output_type": "stream",
     "text": [
      "\n",
      "Test accuracy: 0.6264022435897436\n"
     ]
    },
    {
     "data": {
      "application/vnd.jupyter.widget-view+json": {
       "model_id": "8fbedbbcb58f4287846f1144e9131b51",
       "version_major": 2,
       "version_minor": 0
      },
      "text/plain": [
       "HBox(children=(FloatProgress(value=0.0, max=390.0), HTML(value='')))"
      ]
     },
     "metadata": {},
     "output_type": "display_data"
    },
    {
     "name": "stdout",
     "output_type": "stream",
     "text": [
      "\n",
      "Epoch: 2/20  | Training accuracy: 0.6563100961538462  | Training loss: 0.9716867804527283\n"
     ]
    },
    {
     "data": {
      "application/vnd.jupyter.widget-view+json": {
       "model_id": "61b050c1f68b4e139d3394c571f73f80",
       "version_major": 2,
       "version_minor": 0
      },
      "text/plain": [
       "HBox(children=(FloatProgress(value=0.0, max=78.0), HTML(value='')))"
      ]
     },
     "metadata": {},
     "output_type": "display_data"
    },
    {
     "name": "stdout",
     "output_type": "stream",
     "text": [
      "\n",
      "Test accuracy: 0.6290064102564102\n"
     ]
    },
    {
     "data": {
      "application/vnd.jupyter.widget-view+json": {
       "model_id": "ff6a20b0eef549cb86c7247f7795ce29",
       "version_major": 2,
       "version_minor": 0
      },
      "text/plain": [
       "HBox(children=(FloatProgress(value=0.0, max=390.0), HTML(value='')))"
      ]
     },
     "metadata": {},
     "output_type": "display_data"
    },
    {
     "name": "stdout",
     "output_type": "stream",
     "text": [
      "\n",
      "Epoch: 3/20  | Training accuracy: 0.7093349358974359  | Training loss: 0.8333824872970581\n"
     ]
    },
    {
     "data": {
      "application/vnd.jupyter.widget-view+json": {
       "model_id": "15390c764a364635a5f3f9453cbf6b65",
       "version_major": 2,
       "version_minor": 0
      },
      "text/plain": [
       "HBox(children=(FloatProgress(value=0.0, max=78.0), HTML(value='')))"
      ]
     },
     "metadata": {},
     "output_type": "display_data"
    },
    {
     "name": "stdout",
     "output_type": "stream",
     "text": [
      "\n",
      "Test accuracy: 0.6470352564102564\n"
     ]
    },
    {
     "data": {
      "application/vnd.jupyter.widget-view+json": {
       "model_id": "7bb71ab9429a42089c122508c1e249e2",
       "version_major": 2,
       "version_minor": 0
      },
      "text/plain": [
       "HBox(children=(FloatProgress(value=0.0, max=390.0), HTML(value='')))"
      ]
     },
     "metadata": {},
     "output_type": "display_data"
    },
    {
     "name": "stdout",
     "output_type": "stream",
     "text": [
      "\n",
      "Epoch: 4/20  | Training accuracy: 0.7494391025641025  | Training loss: 0.7221837639808655\n"
     ]
    },
    {
     "data": {
      "application/vnd.jupyter.widget-view+json": {
       "model_id": "4edd58611766464890672e63356568dd",
       "version_major": 2,
       "version_minor": 0
      },
      "text/plain": [
       "HBox(children=(FloatProgress(value=0.0, max=78.0), HTML(value='')))"
      ]
     },
     "metadata": {},
     "output_type": "display_data"
    },
    {
     "name": "stdout",
     "output_type": "stream",
     "text": [
      "\n",
      "Test accuracy: 0.628104967948718\n"
     ]
    },
    {
     "data": {
      "application/vnd.jupyter.widget-view+json": {
       "model_id": "71ba4f96c86b4b5b8dea16cf769913c2",
       "version_major": 2,
       "version_minor": 0
      },
      "text/plain": [
       "HBox(children=(FloatProgress(value=0.0, max=390.0), HTML(value='')))"
      ]
     },
     "metadata": {},
     "output_type": "display_data"
    },
    {
     "name": "stdout",
     "output_type": "stream",
     "text": [
      "\n",
      "Epoch: 5/20  | Training accuracy: 0.7805889423076923  | Training loss: 0.6400297284126282\n"
     ]
    },
    {
     "data": {
      "application/vnd.jupyter.widget-view+json": {
       "model_id": "c746ea0470074638b025de0306a978b0",
       "version_major": 2,
       "version_minor": 0
      },
      "text/plain": [
       "HBox(children=(FloatProgress(value=0.0, max=78.0), HTML(value='')))"
      ]
     },
     "metadata": {},
     "output_type": "display_data"
    },
    {
     "name": "stdout",
     "output_type": "stream",
     "text": [
      "\n",
      "Test accuracy: 0.6533453525641025\n"
     ]
    },
    {
     "data": {
      "application/vnd.jupyter.widget-view+json": {
       "model_id": "2225ebf01d07439080fc6665dbf848f2",
       "version_major": 2,
       "version_minor": 0
      },
      "text/plain": [
       "HBox(children=(FloatProgress(value=0.0, max=390.0), HTML(value='')))"
      ]
     },
     "metadata": {},
     "output_type": "display_data"
    },
    {
     "name": "stdout",
     "output_type": "stream",
     "text": [
      "\n",
      "Epoch: 6/20  | Training accuracy: 0.8174278846153846  | Training loss: 0.5390649437904358\n"
     ]
    },
    {
     "data": {
      "application/vnd.jupyter.widget-view+json": {
       "model_id": "c8f748e7d2854ba99ba935bd1335eb4e",
       "version_major": 2,
       "version_minor": 0
      },
      "text/plain": [
       "HBox(children=(FloatProgress(value=0.0, max=78.0), HTML(value='')))"
      ]
     },
     "metadata": {},
     "output_type": "display_data"
    },
    {
     "name": "stdout",
     "output_type": "stream",
     "text": [
      "\n",
      "Test accuracy: 0.6579527243589743\n"
     ]
    },
    {
     "data": {
      "application/vnd.jupyter.widget-view+json": {
       "model_id": "6d525b97748b444d87679773c55ebb13",
       "version_major": 2,
       "version_minor": 0
      },
      "text/plain": [
       "HBox(children=(FloatProgress(value=0.0, max=390.0), HTML(value='')))"
      ]
     },
     "metadata": {},
     "output_type": "display_data"
    },
    {
     "name": "stdout",
     "output_type": "stream",
     "text": [
      "\n",
      "Epoch: 7/20  | Training accuracy: 0.8439903846153847  | Training loss: 0.4603273570537567\n"
     ]
    },
    {
     "data": {
      "application/vnd.jupyter.widget-view+json": {
       "model_id": "1fd118e757524752a4dfb428ce728ce9",
       "version_major": 2,
       "version_minor": 0
      },
      "text/plain": [
       "HBox(children=(FloatProgress(value=0.0, max=78.0), HTML(value='')))"
      ]
     },
     "metadata": {},
     "output_type": "display_data"
    },
    {
     "name": "stdout",
     "output_type": "stream",
     "text": [
      "\n",
      "Test accuracy: 0.6525440705128205\n"
     ]
    },
    {
     "data": {
      "application/vnd.jupyter.widget-view+json": {
       "model_id": "adb233090b3149138175687e13c466ff",
       "version_major": 2,
       "version_minor": 0
      },
      "text/plain": [
       "HBox(children=(FloatProgress(value=0.0, max=390.0), HTML(value='')))"
      ]
     },
     "metadata": {},
     "output_type": "display_data"
    },
    {
     "name": "stdout",
     "output_type": "stream",
     "text": [
      "\n",
      "Epoch: 8/20  | Training accuracy: 0.8676081730769231  | Training loss: 0.39314910769462585\n"
     ]
    },
    {
     "data": {
      "application/vnd.jupyter.widget-view+json": {
       "model_id": "31995bef59304421abefdd95dc413271",
       "version_major": 2,
       "version_minor": 0
      },
      "text/plain": [
       "HBox(children=(FloatProgress(value=0.0, max=78.0), HTML(value='')))"
      ]
     },
     "metadata": {},
     "output_type": "display_data"
    },
    {
     "name": "stdout",
     "output_type": "stream",
     "text": [
      "\n",
      "Test accuracy: 0.640625\n"
     ]
    },
    {
     "data": {
      "application/vnd.jupyter.widget-view+json": {
       "model_id": "cec55ccb8e89411b93867bed97bb52f6",
       "version_major": 2,
       "version_minor": 0
      },
      "text/plain": [
       "HBox(children=(FloatProgress(value=0.0, max=390.0), HTML(value='')))"
      ]
     },
     "metadata": {},
     "output_type": "display_data"
    },
    {
     "name": "stdout",
     "output_type": "stream",
     "text": [
      "\n",
      "Epoch: 9/20  | Training accuracy: 0.8864383012820513  | Training loss: 0.33875152468681335\n"
     ]
    },
    {
     "data": {
      "application/vnd.jupyter.widget-view+json": {
       "model_id": "da650ac0a2da4526939754da56555ba3",
       "version_major": 2,
       "version_minor": 0
      },
      "text/plain": [
       "HBox(children=(FloatProgress(value=0.0, max=78.0), HTML(value='')))"
      ]
     },
     "metadata": {},
     "output_type": "display_data"
    },
    {
     "name": "stdout",
     "output_type": "stream",
     "text": [
      "\n",
      "Test accuracy: 0.6463341346153846\n"
     ]
    },
    {
     "data": {
      "application/vnd.jupyter.widget-view+json": {
       "model_id": "d8abd6d25de044cd92921fa23760614b",
       "version_major": 2,
       "version_minor": 0
      },
      "text/plain": [
       "HBox(children=(FloatProgress(value=0.0, max=390.0), HTML(value='')))"
      ]
     },
     "metadata": {},
     "output_type": "display_data"
    },
    {
     "name": "stdout",
     "output_type": "stream",
     "text": [
      "\n",
      "Epoch: 10/20  | Training accuracy: 0.9068309294871795  | Training loss: 0.2787201404571533\n"
     ]
    },
    {
     "data": {
      "application/vnd.jupyter.widget-view+json": {
       "model_id": "c433a31e9f6941dda0b8bd056a06327c",
       "version_major": 2,
       "version_minor": 0
      },
      "text/plain": [
       "HBox(children=(FloatProgress(value=0.0, max=78.0), HTML(value='')))"
      ]
     },
     "metadata": {},
     "output_type": "display_data"
    },
    {
     "name": "stdout",
     "output_type": "stream",
     "text": [
      "\n",
      "Test accuracy: 0.6540464743589743\n"
     ]
    },
    {
     "data": {
      "application/vnd.jupyter.widget-view+json": {
       "model_id": "23f1e18f9de240f48d928bdb2d2e191b",
       "version_major": 2,
       "version_minor": 0
      },
      "text/plain": [
       "HBox(children=(FloatProgress(value=0.0, max=390.0), HTML(value='')))"
      ]
     },
     "metadata": {},
     "output_type": "display_data"
    },
    {
     "name": "stdout",
     "output_type": "stream",
     "text": [
      "\n",
      "Epoch: 11/20  | Training accuracy: 0.9174278846153846  | Training loss: 0.2473934292793274\n"
     ]
    },
    {
     "data": {
      "application/vnd.jupyter.widget-view+json": {
       "model_id": "b7dc10c0f5d844a9bbe9f5e1b2677f7d",
       "version_major": 2,
       "version_minor": 0
      },
      "text/plain": [
       "HBox(children=(FloatProgress(value=0.0, max=78.0), HTML(value='')))"
      ]
     },
     "metadata": {},
     "output_type": "display_data"
    },
    {
     "name": "stdout",
     "output_type": "stream",
     "text": [
      "\n",
      "Test accuracy: 0.6615584935897436\n"
     ]
    },
    {
     "data": {
      "application/vnd.jupyter.widget-view+json": {
       "model_id": "bd5240353f80444980337cc4c4ca588f",
       "version_major": 2,
       "version_minor": 0
      },
      "text/plain": [
       "HBox(children=(FloatProgress(value=0.0, max=390.0), HTML(value='')))"
      ]
     },
     "metadata": {},
     "output_type": "display_data"
    },
    {
     "name": "stdout",
     "output_type": "stream",
     "text": [
      "\n",
      "Epoch: 12/20  | Training accuracy: 0.93046875  | Training loss: 0.20677922666072845\n"
     ]
    },
    {
     "data": {
      "application/vnd.jupyter.widget-view+json": {
       "model_id": "20cfb03b1b574ce9b762a4d78427216e",
       "version_major": 2,
       "version_minor": 0
      },
      "text/plain": [
       "HBox(children=(FloatProgress(value=0.0, max=78.0), HTML(value='')))"
      ]
     },
     "metadata": {},
     "output_type": "display_data"
    },
    {
     "name": "stdout",
     "output_type": "stream",
     "text": [
      "\n",
      "Test accuracy: 0.6647636217948718\n"
     ]
    },
    {
     "data": {
      "application/vnd.jupyter.widget-view+json": {
       "model_id": "339e5c32caee4475a5f0fc10df8d5c87",
       "version_major": 2,
       "version_minor": 0
      },
      "text/plain": [
       "HBox(children=(FloatProgress(value=0.0, max=390.0), HTML(value='')))"
      ]
     },
     "metadata": {},
     "output_type": "display_data"
    },
    {
     "name": "stdout",
     "output_type": "stream",
     "text": [
      "\n",
      "Epoch: 13/20  | Training accuracy: 0.9379006410256411  | Training loss: 0.18643370270729065\n"
     ]
    },
    {
     "data": {
      "application/vnd.jupyter.widget-view+json": {
       "model_id": "3169517631214ab3b1b773f3ea15d5e1",
       "version_major": 2,
       "version_minor": 0
      },
      "text/plain": [
       "HBox(children=(FloatProgress(value=0.0, max=78.0), HTML(value='')))"
      ]
     },
     "metadata": {},
     "output_type": "display_data"
    },
    {
     "name": "stdout",
     "output_type": "stream",
     "text": [
      "\n",
      "Test accuracy: 0.6621594551282052\n"
     ]
    },
    {
     "data": {
      "application/vnd.jupyter.widget-view+json": {
       "model_id": "5277632e0eaf44c8801229f639d766af",
       "version_major": 2,
       "version_minor": 0
      },
      "text/plain": [
       "HBox(children=(FloatProgress(value=0.0, max=390.0), HTML(value='')))"
      ]
     },
     "metadata": {},
     "output_type": "display_data"
    },
    {
     "name": "stdout",
     "output_type": "stream",
     "text": [
      "\n",
      "Epoch: 14/20  | Training accuracy: 0.9443910256410256  | Training loss: 0.1690380722284317\n"
     ]
    },
    {
     "data": {
      "application/vnd.jupyter.widget-view+json": {
       "model_id": "49f5751f1fd246958815591d86736f3e",
       "version_major": 2,
       "version_minor": 0
      },
      "text/plain": [
       "HBox(children=(FloatProgress(value=0.0, max=78.0), HTML(value='')))"
      ]
     },
     "metadata": {},
     "output_type": "display_data"
    },
    {
     "name": "stdout",
     "output_type": "stream",
     "text": [
      "\n",
      "Test accuracy: 0.6706730769230769\n"
     ]
    },
    {
     "data": {
      "application/vnd.jupyter.widget-view+json": {
       "model_id": "bbc313599349474f9d4c745d9fb0c643",
       "version_major": 2,
       "version_minor": 0
      },
      "text/plain": [
       "HBox(children=(FloatProgress(value=0.0, max=390.0), HTML(value='')))"
      ]
     },
     "metadata": {},
     "output_type": "display_data"
    },
    {
     "name": "stdout",
     "output_type": "stream",
     "text": [
      "\n",
      "Epoch: 15/20  | Training accuracy: 0.9519030448717949  | Training loss: 0.14869940280914307\n"
     ]
    },
    {
     "data": {
      "application/vnd.jupyter.widget-view+json": {
       "model_id": "6bfd6ea2220645228f22ca982d4f8d2e",
       "version_major": 2,
       "version_minor": 0
      },
      "text/plain": [
       "HBox(children=(FloatProgress(value=0.0, max=78.0), HTML(value='')))"
      ]
     },
     "metadata": {},
     "output_type": "display_data"
    },
    {
     "name": "stdout",
     "output_type": "stream",
     "text": [
      "\n",
      "Test accuracy: 0.6578525641025641\n"
     ]
    },
    {
     "data": {
      "application/vnd.jupyter.widget-view+json": {
       "model_id": "586de72bf00c4834a11f26c5edb5d061",
       "version_major": 2,
       "version_minor": 0
      },
      "text/plain": [
       "HBox(children=(FloatProgress(value=0.0, max=390.0), HTML(value='')))"
      ]
     },
     "metadata": {},
     "output_type": "display_data"
    },
    {
     "name": "stdout",
     "output_type": "stream",
     "text": [
      "\n",
      "Epoch: 16/20  | Training accuracy: 0.9561097756410256  | Training loss: 0.13523772358894348\n"
     ]
    },
    {
     "data": {
      "application/vnd.jupyter.widget-view+json": {
       "model_id": "81ddfedd461d46968e6aa89717261e27",
       "version_major": 2,
       "version_minor": 0
      },
      "text/plain": [
       "HBox(children=(FloatProgress(value=0.0, max=78.0), HTML(value='')))"
      ]
     },
     "metadata": {},
     "output_type": "display_data"
    },
    {
     "name": "stdout",
     "output_type": "stream",
     "text": [
      "\n",
      "Test accuracy: 0.6530448717948718\n"
     ]
    },
    {
     "data": {
      "application/vnd.jupyter.widget-view+json": {
       "model_id": "04fce559883d4924a5e73a6a5770d09c",
       "version_major": 2,
       "version_minor": 0
      },
      "text/plain": [
       "HBox(children=(FloatProgress(value=0.0, max=390.0), HTML(value='')))"
      ]
     },
     "metadata": {},
     "output_type": "display_data"
    },
    {
     "name": "stdout",
     "output_type": "stream",
     "text": [
      "\n",
      "Epoch: 17/20  | Training accuracy: 0.9590544871794872  | Training loss: 0.12574337422847748\n"
     ]
    },
    {
     "data": {
      "application/vnd.jupyter.widget-view+json": {
       "model_id": "690901a1085d475cad8a012b565871e4",
       "version_major": 2,
       "version_minor": 0
      },
      "text/plain": [
       "HBox(children=(FloatProgress(value=0.0, max=78.0), HTML(value='')))"
      ]
     },
     "metadata": {},
     "output_type": "display_data"
    },
    {
     "name": "stdout",
     "output_type": "stream",
     "text": [
      "\n",
      "Test accuracy: 0.6467347756410257\n"
     ]
    },
    {
     "data": {
      "application/vnd.jupyter.widget-view+json": {
       "model_id": "38b414faf8284f94a17a6a62558eb0ac",
       "version_major": 2,
       "version_minor": 0
      },
      "text/plain": [
       "HBox(children=(FloatProgress(value=0.0, max=390.0), HTML(value='')))"
      ]
     },
     "metadata": {},
     "output_type": "display_data"
    },
    {
     "name": "stdout",
     "output_type": "stream",
     "text": [
      "\n",
      "Epoch: 18/20  | Training accuracy: 0.963661858974359  | Training loss: 0.11217833310365677\n"
     ]
    },
    {
     "data": {
      "application/vnd.jupyter.widget-view+json": {
       "model_id": "7cd8ed314890469cbdddabf5f58dc07d",
       "version_major": 2,
       "version_minor": 0
      },
      "text/plain": [
       "HBox(children=(FloatProgress(value=0.0, max=78.0), HTML(value='')))"
      ]
     },
     "metadata": {},
     "output_type": "display_data"
    },
    {
     "name": "stdout",
     "output_type": "stream",
     "text": [
      "\n",
      "Test accuracy: 0.6503405448717948\n"
     ]
    },
    {
     "data": {
      "application/vnd.jupyter.widget-view+json": {
       "model_id": "d5d9b7c99e124656a5fca7124d497530",
       "version_major": 2,
       "version_minor": 0
      },
      "text/plain": [
       "HBox(children=(FloatProgress(value=0.0, max=390.0), HTML(value='')))"
      ]
     },
     "metadata": {},
     "output_type": "display_data"
    },
    {
     "name": "stdout",
     "output_type": "stream",
     "text": [
      "\n",
      "Epoch: 19/20  | Training accuracy: 0.9673677884615385  | Training loss: 0.1036379486322403\n"
     ]
    },
    {
     "data": {
      "application/vnd.jupyter.widget-view+json": {
       "model_id": "90b1aa112037478d88c54edc37110d35",
       "version_major": 2,
       "version_minor": 0
      },
      "text/plain": [
       "HBox(children=(FloatProgress(value=0.0, max=78.0), HTML(value='')))"
      ]
     },
     "metadata": {},
     "output_type": "display_data"
    },
    {
     "name": "stdout",
     "output_type": "stream",
     "text": [
      "\n",
      "Test accuracy: 0.6617588141025641\n"
     ]
    }
   ],
   "source": [
    "train(model, epochs, dropout_probs, batch_size, data, 'saver')"
   ]
  },
  {
   "cell_type": "code",
   "execution_count": 53,
   "metadata": {},
   "outputs": [],
   "source": [
    "def create_training_set_vectors(model, X_train, y_train, batch_size, checkpoint_path, image_size, distance='hamming'):\n",
    "    session = tf.Session()\n",
    "    session.run(tf.global_variables_initializer())\n",
    "    \n",
    "    saver = tf.train.Saver()\n",
    "    saver.restore(session, checkpoint_path)\n",
    "    \n",
    "    dense_2_features = []\n",
    "    dense_4_features = []\n",
    "    \n",
    "    for ii in tqdm_notebook(range(len(X_train) // batch_size)):\n",
    "        start_id = ii * batch_size\n",
    "        end_id = start_id + batch_size\n",
    "        feed_dict = { model.inputs:X_batch, model.dropout_rate:0.0}\n",
    "        \n",
    "        dense_2, dense_4 = session.run([model.dense_2_features, model.dense_4_features], feed_dict=feed_dict)\n",
    "        \n",
    "        dense_2_features.append(dense_2)\n",
    "        dense_4_features.append(dense_4)\n",
    "    \n",
    "    dense_2_features = np.vstack(dense_2_features)\n",
    "    dense_4_features = np.vstack(dense_4_features)\n",
    "    \n",
    "    if distance == 'hamming':\n",
    "        dense_2_features = np.where(dense_2_features < 0.5, 0, 1)\n",
    "        dense_4_features = np.where(dense_4_features < 0.5, 0, 1)\n",
    "        \n",
    "        training_features = np.hstack((dense_2_features, dense_4_features))\n",
    "        \n",
    "        with open(\"hamming_train_vectors.pickle\", \"wb\") as f:\n",
    "            pickle.dump(training_vectors, f)\n",
    "            \n",
    "    elif distance == 'cosine':\n",
    "        training_features = np.hstack((dense_2_features, dense_4_features))\n",
    "        \n",
    "        with open(\"cosine_train_vectors.pickle\", \"wb\") as f:\n",
    "            pickle.dump(training_vectors, f)\n",
    "    "
   ]
  },
  {
   "cell_type": "code",
   "execution_count": 54,
   "metadata": {},
   "outputs": [],
   "source": [
    "model = ImageSearchModel(learning_rate, image_size)"
   ]
  },
  {
   "cell_type": "code",
   "execution_count": 58,
   "metadata": {},
   "outputs": [
    {
     "name": "stderr",
     "output_type": "stream",
     "text": [
      "/home/mark/.conda/envs/Springboard/lib/python3.6/site-packages/ipykernel_launcher.py:11: TqdmDeprecationWarning: This function will be removed in tqdm==5.0.0\n",
      "Please use `tqdm.notebook.tqdm` instead of `tqdm.tqdm_notebook`\n",
      "  # This is added back by InteractiveShellApp.init_path()\n"
     ]
    },
    {
     "data": {
      "application/vnd.jupyter.widget-view+json": {
       "model_id": "c3678c41b6544140b464fd1e81660ae8",
       "version_major": 2,
       "version_minor": 0
      },
      "text/plain": [
       "HBox(children=(FloatProgress(value=0.0, max=390.0), HTML(value='')))"
      ]
     },
     "metadata": {},
     "output_type": "display_data"
    },
    {
     "name": "stdout",
     "output_type": "stream",
     "text": [
      "\n"
     ]
    },
    {
     "ename": "NameError",
     "evalue": "name 'X_batch' is not defined",
     "output_type": "error",
     "traceback": [
      "\u001b[0;31m---------------------------------------------------------------------------\u001b[0m",
      "\u001b[0;31mNameError\u001b[0m                                 Traceback (most recent call last)",
      "\u001b[0;32m<ipython-input-58-4279724c9096>\u001b[0m in \u001b[0;36m<module>\u001b[0;34m\u001b[0m\n\u001b[0;32m----> 1\u001b[0;31m \u001b[0mcreate_training_set_vectors\u001b[0m\u001b[0;34m(\u001b[0m\u001b[0mmodel\u001b[0m\u001b[0;34m,\u001b[0m \u001b[0mX_train\u001b[0m\u001b[0;34m,\u001b[0m \u001b[0my_train\u001b[0m\u001b[0;34m,\u001b[0m \u001b[0mbatch_size\u001b[0m\u001b[0;34m,\u001b[0m \u001b[0;34m\"saver/model_epoch_5.ckpt\"\u001b[0m\u001b[0;34m,\u001b[0m \u001b[0mimage_size\u001b[0m\u001b[0;34m)\u001b[0m\u001b[0;34m\u001b[0m\u001b[0;34m\u001b[0m\u001b[0m\n\u001b[0m",
      "\u001b[0;32m<ipython-input-53-ba83ab8addc6>\u001b[0m in \u001b[0;36mcreate_training_set_vectors\u001b[0;34m(model, X_train, y_train, batch_size, checkpoint_path, image_size, distance)\u001b[0m\n\u001b[1;32m     12\u001b[0m         \u001b[0mstart_id\u001b[0m \u001b[0;34m=\u001b[0m \u001b[0mii\u001b[0m \u001b[0;34m*\u001b[0m \u001b[0mbatch_size\u001b[0m\u001b[0;34m\u001b[0m\u001b[0;34m\u001b[0m\u001b[0m\n\u001b[1;32m     13\u001b[0m         \u001b[0mend_id\u001b[0m \u001b[0;34m=\u001b[0m \u001b[0mstart_id\u001b[0m \u001b[0;34m+\u001b[0m \u001b[0mbatch_size\u001b[0m\u001b[0;34m\u001b[0m\u001b[0;34m\u001b[0m\u001b[0m\n\u001b[0;32m---> 14\u001b[0;31m         \u001b[0mfeed_dict\u001b[0m \u001b[0;34m=\u001b[0m \u001b[0;34m{\u001b[0m \u001b[0mmodel\u001b[0m\u001b[0;34m.\u001b[0m\u001b[0minputs\u001b[0m\u001b[0;34m:\u001b[0m\u001b[0mX_batch\u001b[0m\u001b[0;34m,\u001b[0m \u001b[0mmodel\u001b[0m\u001b[0;34m.\u001b[0m\u001b[0mdropout_rate\u001b[0m\u001b[0;34m:\u001b[0m\u001b[0;36m0.0\u001b[0m\u001b[0;34m}\u001b[0m\u001b[0;34m\u001b[0m\u001b[0;34m\u001b[0m\u001b[0m\n\u001b[0m\u001b[1;32m     15\u001b[0m \u001b[0;34m\u001b[0m\u001b[0m\n\u001b[1;32m     16\u001b[0m         \u001b[0mdense_2\u001b[0m\u001b[0;34m,\u001b[0m \u001b[0mdense_4\u001b[0m \u001b[0;34m=\u001b[0m \u001b[0msession\u001b[0m\u001b[0;34m.\u001b[0m\u001b[0mrun\u001b[0m\u001b[0;34m(\u001b[0m\u001b[0;34m[\u001b[0m\u001b[0mmodel\u001b[0m\u001b[0;34m.\u001b[0m\u001b[0mdense_2_features\u001b[0m\u001b[0;34m,\u001b[0m \u001b[0mmodel\u001b[0m\u001b[0;34m.\u001b[0m\u001b[0mdense_4_features\u001b[0m\u001b[0;34m]\u001b[0m\u001b[0;34m,\u001b[0m \u001b[0mfeed_dict\u001b[0m\u001b[0;34m=\u001b[0m\u001b[0mfeed_dict\u001b[0m\u001b[0;34m)\u001b[0m\u001b[0;34m\u001b[0m\u001b[0;34m\u001b[0m\u001b[0m\n",
      "\u001b[0;31mNameError\u001b[0m: name 'X_batch' is not defined"
     ]
    }
   ],
   "source": [
    "create_training_set_vectors(model, X_train, y_train, batch_size, \"saver/model_epoch_5.ckpt\", image_size)"
   ]
  },
  {
   "cell_type": "code",
   "execution_count": 59,
   "metadata": {},
   "outputs": [],
   "source": [
    "def simple_inference(model, session, train_set_vectors, uploaded_image_path, image_size, distance='hamming'):\n",
    "    image = image_loader(uploaded_image_path, image_size)\n",
    "    \n",
    "    feed_dict = {model.inputs:[image], model.dropout_rate:0.0}\n",
    "    \n",
    "    dense_2_features, dense_4_features = session.run([model.dense_2_features, model.dense_4_features], feed_dict=feed_dict)\n",
    "    \n",
    "    closest_ids = None\n",
    "    if distance == 'hamming':\n",
    "        dense_2_features = np.where(dense_2_features < 0.5, 0, 1)\n",
    "        dense_4_features = np.where(dense_4_features < 0.5, 0, 1)\n",
    "        \n",
    "        uploaded_image_vector = np.hstack((dense_2_features, dense_4_features))\n",
    "        \n",
    "        closest_ids = hamming_distance(train_set_vectors, uploaded_image_vector)\n",
    "    \n",
    "    elif distance == 'cosine':\n",
    "\n",
    "        uploaded_image_vector = np.hstack((dense_2_features, dense_4_features))\n",
    "        \n",
    "        closest_ids = cosine_distance(train_set_vectors, uploaded_image_vector)\n",
    "    \n",
    "    return closest_ids"
   ]
  },
  {
   "cell_type": "code",
   "execution_count": null,
   "metadata": {},
   "outputs": [],
   "source": []
  }
 ],
 "metadata": {
  "kernelspec": {
   "display_name": "Python 3",
   "language": "python",
   "name": "python3"
  },
  "language_info": {
   "codemirror_mode": {
    "name": "ipython",
    "version": 3
   },
   "file_extension": ".py",
   "mimetype": "text/x-python",
   "name": "python",
   "nbconvert_exporter": "python",
   "pygments_lexer": "ipython3",
   "version": "3.6.9"
  }
 },
 "nbformat": 4,
 "nbformat_minor": 2
}
